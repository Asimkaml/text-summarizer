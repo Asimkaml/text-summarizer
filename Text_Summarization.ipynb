{
 "cells": [
  {
   "cell_type": "markdown",
   "id": "c70bcb62",
   "metadata": {},
   "source": [
    "### **Objective:** Create a system that summarizes lengthy articles, blogs, or news into concise summaries."
   ]
  },
  {
   "cell_type": "markdown",
   "id": "c2a13a73",
   "metadata": {},
   "source": [
    "Task 2: Text Summarization\n",
    "\n",
    "● Dataset: CNN/Daily Mail Dataset  \n",
    "● Steps:\n",
    "1. Preprocess textual data for summarization.\n",
    "2. Implement extractive summarization using libraries like spaCy.\n",
    "3. Implement abstractive summarization using pre-trained models like BERT or\n",
    "GPT with HuggingFace's transformers.\n",
    "4. Fine-tune models to improve the quality of summaries.\n",
    "5. Test the model on real-world articles and evaluate summary coherence.  \n",
    "● Outcome: A summarization model capable of generating\n",
    "concise summaries from long texts."
   ]
  },
  {
   "cell_type": "code",
   "execution_count": 1,
   "id": "f3884aea",
   "metadata": {},
   "outputs": [],
   "source": [
    "# %pip install seaborn\n",
    "# %pip install matplotlib.pyplot\n",
    "# %pip install pandas\n",
    "# %pip install nltk\n",
    "# %pip install sklearn\n",
    "# %pip install spacy\n",
    "# %pip install scipy\n",
    "# %pip install transformers\n",
    "# %pip install torch\n"
   ]
  },
  {
   "cell_type": "code",
   "execution_count": 2,
   "id": "e274d113",
   "metadata": {},
   "outputs": [
    {
     "name": "stderr",
     "output_type": "stream",
     "text": [
      "d:\\programming\\python\\data analysis\\Projects\\.venv\\Lib\\site-packages\\tqdm\\auto.py:21: TqdmWarning: IProgress not found. Please update jupyter and ipywidgets. See https://ipywidgets.readthedocs.io/en/stable/user_install.html\n",
      "  from .autonotebook import tqdm as notebook_tqdm\n"
     ]
    }
   ],
   "source": [
    "\n",
    "import pandas as pd\n",
    "import seaborn as sns\n",
    "import matplotlib.pyplot as plt\n",
    "import re\n",
    "import nltk\n",
    "from nltk.tokenize import sent_tokenize, word_tokenize\n",
    "from transformers import pipeline"
   ]
  },
  {
   "cell_type": "code",
   "execution_count": 3,
   "id": "46b54a73",
   "metadata": {},
   "outputs": [
    {
     "name": "stderr",
     "output_type": "stream",
     "text": [
      "[nltk_data] Downloading package punkt to\n",
      "[nltk_data]     C:\\Users\\LEO\\AppData\\Roaming\\nltk_data...\n",
      "[nltk_data]   Package punkt is already up-to-date!\n"
     ]
    },
    {
     "data": {
      "text/plain": [
       "True"
      ]
     },
     "execution_count": 3,
     "metadata": {},
     "output_type": "execute_result"
    }
   ],
   "source": [
    "nltk.download('punkt')"
   ]
  },
  {
   "cell_type": "markdown",
   "id": "0b589d34",
   "metadata": {},
   "source": [
    "### **Loading dataset**"
   ]
  },
  {
   "cell_type": "code",
   "execution_count": 4,
   "id": "79c7ea87",
   "metadata": {},
   "outputs": [
    {
     "data": {
      "text/html": [
       "<div>\n",
       "<style scoped>\n",
       "    .dataframe tbody tr th:only-of-type {\n",
       "        vertical-align: middle;\n",
       "    }\n",
       "\n",
       "    .dataframe tbody tr th {\n",
       "        vertical-align: top;\n",
       "    }\n",
       "\n",
       "    .dataframe thead th {\n",
       "        text-align: right;\n",
       "    }\n",
       "</style>\n",
       "<table border=\"1\" class=\"dataframe\">\n",
       "  <thead>\n",
       "    <tr style=\"text-align: right;\">\n",
       "      <th></th>\n",
       "      <th>id</th>\n",
       "      <th>article</th>\n",
       "      <th>highlights</th>\n",
       "    </tr>\n",
       "  </thead>\n",
       "  <tbody>\n",
       "    <tr>\n",
       "      <th>0</th>\n",
       "      <td>0001d1afc246a7964130f43ae940af6bc6c57f01</td>\n",
       "      <td>By . Associated Press . PUBLISHED: . 14:11 EST...</td>\n",
       "      <td>Bishop John Folda, of North Dakota, is taking ...</td>\n",
       "    </tr>\n",
       "    <tr>\n",
       "      <th>1</th>\n",
       "      <td>0002095e55fcbd3a2f366d9bf92a95433dc305ef</td>\n",
       "      <td>(CNN) -- Ralph Mata was an internal affairs li...</td>\n",
       "      <td>Criminal complaint: Cop used his role to help ...</td>\n",
       "    </tr>\n",
       "    <tr>\n",
       "      <th>2</th>\n",
       "      <td>00027e965c8264c35cc1bc55556db388da82b07f</td>\n",
       "      <td>A drunk driver who killed a young woman in a h...</td>\n",
       "      <td>Craig Eccleston-Todd, 27, had drunk at least t...</td>\n",
       "    </tr>\n",
       "    <tr>\n",
       "      <th>3</th>\n",
       "      <td>0002c17436637c4fe1837c935c04de47adb18e9a</td>\n",
       "      <td>(CNN) -- With a breezy sweep of his pen Presid...</td>\n",
       "      <td>Nina dos Santos says Europe must be ready to a...</td>\n",
       "    </tr>\n",
       "    <tr>\n",
       "      <th>4</th>\n",
       "      <td>0003ad6ef0c37534f80b55b4235108024b407f0b</td>\n",
       "      <td>Fleetwood are the only team still to have a 10...</td>\n",
       "      <td>Fleetwood top of League One after 2-0 win at S...</td>\n",
       "    </tr>\n",
       "  </tbody>\n",
       "</table>\n",
       "</div>"
      ],
      "text/plain": [
       "                                         id  \\\n",
       "0  0001d1afc246a7964130f43ae940af6bc6c57f01   \n",
       "1  0002095e55fcbd3a2f366d9bf92a95433dc305ef   \n",
       "2  00027e965c8264c35cc1bc55556db388da82b07f   \n",
       "3  0002c17436637c4fe1837c935c04de47adb18e9a   \n",
       "4  0003ad6ef0c37534f80b55b4235108024b407f0b   \n",
       "\n",
       "                                             article  \\\n",
       "0  By . Associated Press . PUBLISHED: . 14:11 EST...   \n",
       "1  (CNN) -- Ralph Mata was an internal affairs li...   \n",
       "2  A drunk driver who killed a young woman in a h...   \n",
       "3  (CNN) -- With a breezy sweep of his pen Presid...   \n",
       "4  Fleetwood are the only team still to have a 10...   \n",
       "\n",
       "                                          highlights  \n",
       "0  Bishop John Folda, of North Dakota, is taking ...  \n",
       "1  Criminal complaint: Cop used his role to help ...  \n",
       "2  Craig Eccleston-Todd, 27, had drunk at least t...  \n",
       "3  Nina dos Santos says Europe must be ready to a...  \n",
       "4  Fleetwood top of League One after 2-0 win at S...  "
      ]
     },
     "execution_count": 4,
     "metadata": {},
     "output_type": "execute_result"
    }
   ],
   "source": [
    "df = pd.read_csv(\"../datasets/cnn_dailymail/train.csv\")\n",
    "df.head()"
   ]
  },
  {
   "cell_type": "code",
   "execution_count": 5,
   "id": "84e7b92a",
   "metadata": {},
   "outputs": [
    {
     "name": "stdout",
     "output_type": "stream",
     "text": [
      "Columns in dataframe: Index(['id', 'article', 'highlights'], dtype='object')\n",
      "Shape of dataframe: (287113, 3)\n"
     ]
    }
   ],
   "source": [
    "print(\"Columns in dataframe:\",df.columns)\n",
    "print(\"Shape of dataframe:\",df.shape)"
   ]
  },
  {
   "cell_type": "markdown",
   "id": "a103a40e",
   "metadata": {},
   "source": [
    "### **Preprocessing Data**"
   ]
  },
  {
   "cell_type": "code",
   "execution_count": 6,
   "id": "eb1cf381",
   "metadata": {},
   "outputs": [],
   "source": [
    "df_sample = df.sample(1, random_state=123)\n",
    "article = df_sample['article'].values[0]\n",
    "highlight = df_sample['highlights'].values[0]"
   ]
  },
  {
   "cell_type": "code",
   "execution_count": 7,
   "id": "9fc2f208",
   "metadata": {},
   "outputs": [],
   "source": [
    "# nltk.download('punkt_tab')"
   ]
  },
  {
   "cell_type": "code",
   "execution_count": 8,
   "id": "77802449",
   "metadata": {},
   "outputs": [
    {
     "name": "stdout",
     "output_type": "stream",
     "text": [
      "\n",
      "Preprocessed Article: a group of brazilian convicts who tunnelled out of jail to freedom filmed the whole escape on a mobile phone ... before posting the videos online to taunt their hoodwinked guards. in a daring breakout that echoed 1994 hollywood blockbuster the shawshank redemption, 13 prisoners dug a small hole under the wall between their cell and the prison yard in rio verde, goias state, before darting to freedom under cover of darkness. but unlike the famous movie, starring tim robbins and morgan freeman, which is set in the 1940s, their escape had very modern twist. rather than focus purely on getting out of jail without detection, they felt compelled to record the whole experience on a mobile phone and post it on the internet for all to see. scroll down for video . brazen the thirteen prisoners filmed their escape on mobile phones, laughing as they did so, before later posting the video online . like a movie in a daring breakout that echoed 1994 hollywood blockbuster the shawshank redemption, the prisoners dug a small hole under the wall that separated their cell and the prison yard in rio verde, goias state, before darting to freedom under cover of darkness . police deputy jacqueline camargo machado admitted that the prisoners' cells had not been inspected for two months, blaming staff shortages. she said 'the guard that was there on the day was looking after other things most of the time. 'we now know that there had not been an inspection of the cell for almost 60 days. they were able to dig a tunnel and it was easy to escape after that.' ezequias gonalves miranda and william pereira da mata were two of the crooks that tunnelled out of jail to freedom. it is unclear if they appeared in the video . more than freeman it was a daring breakout that echoed 1994 hollywood blockbuster the shawshank redemption, starring morgan freeman  and tim robbins   but with a very modern twist . the prison guard on duty has been suspended for not managing to foil the secret plot. a manhunt has been launched resulting in the capture of two men. the other 11 remain at large. it is not the first escape from brazilian jail. a year ago 54 prisoners staged a mass escape after a riot at the fundao casa youth detentionfacility in sao paulo, which houses more than 100 detainees. dozens of the underage offenders set fire to their mattresses, sparking a blaze in the prison's central yard. helicopter images showed plumes of smoke rising from the detention centre. video footage also showed prisoners climbing over the prison walls and escaping down trees. nearly 30 staff members were held hostage during the riot and the facility's director was admitted to hospital with cuts to his head and bruised ribs.\n",
      "\n",
      "Highlight: 13 prisoners escaped from Rio Grande prison after digging hole under wall .\n",
      "The escape had shades of 1994 blockbuster The Shawshank Redemption .\n",
      "But in a modern twist, they filmed escape on smuggled mobile phones .\n",
      "They then posted the video online which showed them goading guards .\n",
      "\n",
      "Number of sentences in the article: 23\n",
      "\n",
      "First 3 sentences: ['a group of brazilian convicts who tunnelled out of jail to freedom filmed the whole escape on a mobile phone ... before posting the videos online to taunt their hoodwinked guards.', 'in a daring breakout that echoed 1994 hollywood blockbuster the shawshank redemption, 13 prisoners dug a small hole under the wall between their cell and the prison yard in rio verde, goias state, before darting to freedom under cover of darkness.', 'but unlike the famous movie, starring tim robbins and morgan freeman, which is set in the 1940s, their escape had very modern twist.']\n"
     ]
    }
   ],
   "source": [
    "def preprocess_text(text):\n",
    "    text = text.lower()\n",
    "    #remove extra spaces\n",
    "    text = re.sub(r'\\s+',' ', text)\n",
    "    #remove brackets and the content inside them\n",
    "    text = re.sub(r'\\[[^]]*\\]','', text)\n",
    "    #remove parentheses and the content inside them\n",
    "    text = re.sub(r'\\([^)]*\\)', '', text)\n",
    "    #remove special characters\n",
    "    text = re.sub(r'[^a-zA-Z0-9.,?!\\'\\s]', '', text)\n",
    "    return text.strip()\n",
    "preprocess_article = preprocess_text(article)\n",
    "sentences = sent_tokenize(preprocess_article)\n",
    "print(\"\\nPreprocessed Article:\", preprocess_article)\n",
    "print(\"\\nHighlight:\", highlight)\n",
    "print(\"\\nNumber of sentences in the article:\", len(sentences))\n",
    "print(\"\\nFirst 3 sentences:\", sentences[:3])"
   ]
  },
  {
   "cell_type": "markdown",
   "id": "997be070",
   "metadata": {},
   "source": [
    "### **Sentence Tokenization & Vectorization Using spaCy**"
   ]
  },
  {
   "cell_type": "code",
   "execution_count": 9,
   "id": "41325c12",
   "metadata": {},
   "outputs": [],
   "source": [
    "import spacy\n",
    "import numpy as np"
   ]
  },
  {
   "cell_type": "code",
   "execution_count": 10,
   "id": "842e90d2",
   "metadata": {},
   "outputs": [],
   "source": [
    "# !python -m spacy download en_core_web_md"
   ]
  },
  {
   "cell_type": "code",
   "execution_count": 11,
   "id": "3464e135",
   "metadata": {},
   "outputs": [],
   "source": [
    "#loading spaCy english model\n",
    "nlp = spacy.load(\"en_core_web_md\")\n",
    "\n",
    "preprocess_article = preprocess_text(article)\n",
    "sentences = sent_tokenize(preprocess_article)\n",
    "\n",
    "# Store spaCy docs for each sentence\n",
    "sentences_docs = [nlp(sentence) for sentence in sentences]   \n",
    "# Filter out or Removing very short or empty sentences\n",
    "filtered_docs = [doc for doc in sentences_docs if len(doc.text.split()) > 20]\n"
   ]
  },
  {
   "cell_type": "code",
   "execution_count": 12,
   "id": "23ec5f13",
   "metadata": {},
   "outputs": [
    {
     "name": "stdout",
     "output_type": "stream",
     "text": [
      "📄 Total sentences: 23\n",
      "🧹 Sentences after filtering: 9\n",
      "\n",
      "📌 First 3 sentences:\n",
      "1. a group of brazilian convicts who tunnelled out of jail to freedom filmed the whole escape on a mobile phone ... before posting the videos online to taunt their hoodwinked guards.\n",
      "2. in a daring breakout that echoed 1994 hollywood blockbuster the shawshank redemption, 13 prisoners dug a small hole under the wall between their cell and the prison yard in rio verde, goias state, before darting to freedom under cover of darkness.\n",
      "3. but unlike the famous movie, starring tim robbins and morgan freeman, which is set in the 1940s, their escape had very modern twist.\n"
     ]
    }
   ],
   "source": [
    "print(f\"📄 Total sentences: {len(sentences)}\")\n",
    "print(f\"🧹 Sentences after filtering: {len(filtered_docs)}\")\n",
    "print(\"\\n📌 First 3 sentences:\")\n",
    "for i, doc in enumerate(filtered_docs[:3]):\n",
    "    print(f\"{i+1}. {doc.text}\")"
   ]
  },
  {
   "cell_type": "markdown",
   "id": "ba7f4387",
   "metadata": {},
   "source": [
    "### **Compute Sentence Similarity Matrix**"
   ]
  },
  {
   "cell_type": "code",
   "execution_count": 13,
   "id": "396e8bc8",
   "metadata": {},
   "outputs": [],
   "source": [
    "#using cosine similarity\n",
    "n = len(filtered_docs)\n",
    "similarity_matrix = np.zeros((n, n))\n",
    "\n",
    "for i in range(n):\n",
    "    for j in range(n):\n",
    "        # skipping self-similarity( will always be 1 or we can set it to 0 depending on the use case)\n",
    "        if i != j:\n",
    "            similarity_matrix[i][j] = filtered_docs[i].similarity(filtered_docs[j])\n",
    "       "
   ]
  },
  {
   "cell_type": "code",
   "execution_count": 14,
   "id": "d8ab517a",
   "metadata": {},
   "outputs": [],
   "source": [
    "# print(\"📌 Similarity Matrix Shape:\", similarity_matrix.shape)\n",
    "# print(\"🔢 Similarity Matrix (first 3x3):\\n\", similarity_matrix[:3, :3])"
   ]
  },
  {
   "cell_type": "markdown",
   "id": "1380bcc3",
   "metadata": {},
   "source": [
    "### **Build Sentence Graph & Rank with PageRank (TextRank)**\n"
   ]
  },
  {
   "cell_type": "code",
   "execution_count": 15,
   "id": "313a2ccf",
   "metadata": {},
   "outputs": [],
   "source": [
    "import networkx as nx"
   ]
  },
  {
   "cell_type": "code",
   "execution_count": 16,
   "id": "8ee44b46",
   "metadata": {},
   "outputs": [
    {
     "name": "stdout",
     "output_type": "stream",
     "text": [
      "[a group of brazilian convicts who tunnelled out of jail to freedom filmed the whole escape on a mobile phone ... before posting the videos online to taunt their hoodwinked guards., in a daring breakout that echoed 1994 hollywood blockbuster the shawshank redemption, 13 prisoners dug a small hole under the wall between their cell and the prison yard in rio verde, goias state, before darting to freedom under cover of darkness., but unlike the famous movie, starring tim robbins and morgan freeman, which is set in the 1940s, their escape had very modern twist., rather than focus purely on getting out of jail without detection, they felt compelled to record the whole experience on a mobile phone and post it on the internet for all to see., brazen the thirteen prisoners filmed their escape on mobile phones, laughing as they did so, before later posting the video online ., like a movie in a daring breakout that echoed 1994 hollywood blockbuster the shawshank redemption, the prisoners dug a small hole under the wall that separated their cell and the prison yard in rio verde, goias state, before darting to freedom under cover of darkness ., more than freeman it was a daring breakout that echoed 1994 hollywood blockbuster the shawshank redemption, starring morgan freeman  and tim robbins   but with a very modern twist ., a year ago 54 prisoners staged a mass escape after a riot at the fundao casa youth detentionfacility in sao paulo, which houses more than 100 detainees., nearly 30 staff members were held hostage during the riot and the facility's director was admitted to hospital with cuts to his head and bruised ribs.]\n"
     ]
    }
   ],
   "source": [
    "print(filtered_docs)\n"
   ]
  },
  {
   "cell_type": "code",
   "execution_count": 17,
   "id": "b2ed8cdd",
   "metadata": {},
   "outputs": [],
   "source": [
    "# building a graph\n",
    "sentence_graph = nx.from_numpy_array(similarity_matrix)\n",
    "\n",
    "# using PageRank algorithm to rank sentences\n",
    "scores = nx.pagerank(sentence_graph)\n",
    "\n",
    "# sorting sentences by their scores\n",
    "ranked_sentences = sorted(((scores[i], doc) for i, doc in enumerate(filtered_docs)), reverse=True)"
   ]
  },
  {
   "cell_type": "code",
   "execution_count": 18,
   "id": "f82cfea8",
   "metadata": {},
   "outputs": [
    {
     "data": {
      "text/plain": [
       "{0: 0.11279044533029339,\n",
       " 1: 0.1138739171253475,\n",
       " 2: 0.11135033999279662,\n",
       " 3: 0.1112975260118318,\n",
       " 4: 0.11305956129914166,\n",
       " 5: 0.11461131919072506,\n",
       " 6: 0.10932991895446192,\n",
       " 7: 0.10692392443004176,\n",
       " 8: 0.10676304766536027}"
      ]
     },
     "execution_count": 18,
     "metadata": {},
     "output_type": "execute_result"
    }
   ],
   "source": [
    "scores"
   ]
  },
  {
   "cell_type": "markdown",
   "id": "2ae1d7d7",
   "metadata": {},
   "source": [
    "### **Generate Summary using top ranked sentences**"
   ]
  },
  {
   "cell_type": "code",
   "execution_count": null,
   "id": "2cb3a9c8",
   "metadata": {},
   "outputs": [
    {
     "name": "stdout",
     "output_type": "stream",
     "text": [
      "📄 Extractive Summary:\n",
      "\n",
      "like a movie in a daring breakout that echoed 1994 hollywood blockbuster the shawshank redemption, the prisoners dug a small hole under the wall that separated their cell and the prison yard in rio verde, goias state, before darting to freedom under cover of darkness .\n",
      "in a daring breakout that echoed 1994 hollywood blockbuster the shawshank redemption, 13 prisoners dug a small hole under the wall between their cell and the prison yard in rio verde, goias state, before darting to freedom under cover of darkness.\n",
      "brazen the thirteen prisoners filmed their escape on mobile phones, laughing as they did so, before later posting the video online .\n",
      "\n",
      "📝 Original Human-Written Summary:\n",
      "\n",
      "13 prisoners escaped from Rio Grande prison after digging hole under wall .\n",
      "The escape had shades of 1994 blockbuster The Shawshank Redemption .\n",
      "But in a modern twist, they filmed escape on smuggled mobile phones .\n",
      "They then posted the video online which showed them goading guards .\n"
     ]
    }
   ],
   "source": [
    "top_sent = sorted(ranked_sentences[:3], key=lambda x:filtered_docs.index(x[1]), reverse=True)\n",
    "\n",
    "extracted_summary = '\\n'.join([sent.text for _, sent in top_sent])\n",
    "\n",
    "print(\"📄 Extractive Summary:\\n\")\n",
    "print(extracted_summary)\n",
    "\n",
    "print(\"\\n📝 Original Human-Written Summary:\\n\")\n",
    "print(highlight)"
   ]
  },
  {
   "cell_type": "markdown",
   "id": "da6bc809",
   "metadata": {},
   "source": [
    "### **Abstractive Summarization with BART**"
   ]
  },
  {
   "cell_type": "code",
   "execution_count": 30,
   "id": "d8818067",
   "metadata": {},
   "outputs": [
    {
     "name": "stderr",
     "output_type": "stream",
     "text": [
      "Device set to use cpu\n"
     ]
    },
    {
     "name": "stdout",
     "output_type": "stream",
     "text": [
      "\n",
      "BART Generated Summary:\n",
      " [{'summary_text': \"13 prisoners dug a small hole under the wall between their cell and the prison yard in Rio Verde, Goias State, before darting to freedom under cover of darkness. Rather than focus purely on getting out of jail without detection, they felt compelled to record the whole experience on a mobile phone. Police deputy Jacqueline Camargo Machado admitted that the prisoners' cells had not been inspected for two months.\"}]\n",
      "\n",
      "Actual Summary:\n",
      " 13 prisoners escaped from Rio Grande prison after digging hole under wall .\n",
      "The escape had shades of 1994 blockbuster The Shawshank Redemption .\n",
      "But in a modern twist, they filmed escape on smuggled mobile phones .\n",
      "They then posted the video online which showed them goading guards .\n"
     ]
    }
   ],
   "source": [
    "summarizer = pipeline(\"summarization\", model = \"facebook/bart-large-cnn\")\n",
    "\n",
    "#truncating due to the bart's input size limit\n",
    "text = df_sample['article'].iloc[0]\n",
    "if len(text.split()) > 1024:\n",
    "    text = \" \".join(text.split()[:1024])\n",
    "\n",
    "summary = summarizer(df_sample['article'].iloc[0], max_length = 100, min_length = 50, do_sample=False)\n",
    "print(\"\\nBART Generated Summary:\\n\", summary)\n",
    "print(\"\\nActual Summary:\\n\",df_sample['highlights'].iloc[0])\n"
   ]
  },
  {
   "cell_type": "code",
   "execution_count": 31,
   "id": "e3626541",
   "metadata": {},
   "outputs": [
    {
     "name": "stdout",
     "output_type": "stream",
     "text": [
      "Extractive Summary:\n",
      " like a movie in a daring breakout that echoed 1994 hollywood blockbuster the shawshank redemption, the prisoners dug a small hole under the wall that separated their cell and the prison yard in rio verde, goias state, before darting to freedom under cover of darkness .\n",
      "in a daring breakout that echoed 1994 hollywood blockbuster the shawshank redemption, 13 prisoners dug a small hole under the wall between their cell and the prison yard in rio verde, goias state, before darting to freedom under cover of darkness.\n",
      "brazen the thirteen prisoners filmed their escape on mobile phones, laughing as they did so, before later posting the video online .\n",
      "\n",
      "Abstractive Summary:\n",
      " [{'summary_text': \"13 prisoners dug a small hole under the wall between their cell and the prison yard in Rio Verde, Goias State, before darting to freedom under cover of darkness. Rather than focus purely on getting out of jail without detection, they felt compelled to record the whole experience on a mobile phone. Police deputy Jacqueline Camargo Machado admitted that the prisoners' cells had not been inspected for two months.\"}]\n",
      "\n",
      "Human Summary:\n",
      " 13 prisoners escaped from Rio Grande prison after digging hole under wall .\n",
      "The escape had shades of 1994 blockbuster The Shawshank Redemption .\n",
      "But in a modern twist, they filmed escape on smuggled mobile phones .\n",
      "They then posted the video online which showed them goading guards .\n"
     ]
    }
   ],
   "source": [
    "\n",
    "print(\"Extractive Summary:\\n\", extracted_summary)\n",
    "print(\"\\nAbstractive Summary:\\n\", summary)\n",
    "print(\"\\nHuman Summary:\\n\", highlight)\n"
   ]
  }
 ],
 "metadata": {
  "kernelspec": {
   "display_name": ".venv",
   "language": "python",
   "name": "python3"
  },
  "language_info": {
   "codemirror_mode": {
    "name": "ipython",
    "version": 3
   },
   "file_extension": ".py",
   "mimetype": "text/x-python",
   "name": "python",
   "nbconvert_exporter": "python",
   "pygments_lexer": "ipython3",
   "version": "3.11.5"
  }
 },
 "nbformat": 4,
 "nbformat_minor": 5
}
